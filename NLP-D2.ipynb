{
 "cells": [
  {
   "cell_type": "code",
   "execution_count": 48,
   "metadata": {},
   "outputs": [
    {
     "name": "stdout",
     "output_type": "stream",
     "text": [
      "isnumeric_count: 4\n",
      "isdigit_count: 2\n",
      "isdecimal_count: 1\n"
     ]
    }
   ],
   "source": [
    "#isnumeric(), isdigit(), isdecimal() 各有幾個\n",
    "\n",
    "test_string = ['5.9', '30', '½', '³', '⑬']\n",
    "\n",
    "def spam(s, isnumeric_count, isdigit_count, isdecimal_count):\n",
    "    for attr in s:\n",
    "        if attr.isnumeric():\n",
    "             isnumeric_count+=1          \n",
    "        if attr.isdigit():\n",
    "            isdigit_count+=1       \n",
    "        if attr.isdecimal():\n",
    "            isdecimal_count+=1        \n",
    "    print('isnumeric_count: {}'.format(isnumeric_count))\n",
    "    print('isdigit_count: {}'.format(isdigit_count))     \n",
    "    print('isdecimal_count: {}'.format(isdecimal_count)) \n",
    "            \n",
    "spam(test_string,0,0,0)"
   ]
  },
  {
   "cell_type": "code",
   "execution_count": 14,
   "metadata": {
    "scrolled": true
   },
   "outputs": [
    {
     "name": "stdout",
     "output_type": "stream",
     "text": [
      "Accuracy:98.13%\n",
      "Recall:94.88%\n",
      "precision:96.29%\n",
      "\n",
      "Accuracy:98.13%\n",
      "recall:94.88%\n",
      "precision:96.29%\n"
     ]
    }
   ],
   "source": [
    "#運用formatting 技巧 output\n",
    "\n",
    "accuracy = 98.129393\n",
    "recall = 94.879583\n",
    "precision =96.294821    \n",
    "            \n",
    "print(\"Accuracy:\"+'{:.2f}'.format(accuracy)+\"%\")\n",
    "print(\"Recall:\"+'{:.2f}'.format(recall)+\"%\")\n",
    "print(\"precision:\"+'{:.2f}'.format(precision)+\"%\")\n",
    "print(\"\")\n",
    "\n",
    "\n",
    "accuracy = 0.98129393\n",
    "recall = 0.94879583\n",
    "precision =0.96294821 \n",
    "print(\"Accuracy:\"+'{:.2%}'.format(accuracy))\n",
    "print(\"recall:\"+'{:.2%}'.format(recall))\n",
    "print(\"precision:\"+'{:.2%}'.format(precision))"
   ]
  },
  {
   "cell_type": "code",
   "execution_count": 22,
   "metadata": {},
   "outputs": [
    {
     "name": "stdout",
     "output_type": "stream",
     "text": [
      "3.14E+00\n",
      "314.16%\n",
      "3.14159300\n"
     ]
    }
   ],
   "source": [
    "#依照指示轉換number output format\n",
    "number = 3.1415926\n",
    "#轉換為科學符號表示法 (小數點後兩位)\n",
    "print('{:.2E}'.format(number))\n",
    "#轉換為%\n",
    "print('{:.2%}'.format(number))\n",
    "#補零成為3.14159300\n",
    "print('{:0<10F}'.format(number))"
   ]
  },
  {
   "cell_type": "code",
   "execution_count": null,
   "metadata": {},
   "outputs": [],
   "source": []
  },
  {
   "cell_type": "code",
   "execution_count": null,
   "metadata": {},
   "outputs": [],
   "source": []
  },
  {
   "cell_type": "code",
   "execution_count": null,
   "metadata": {},
   "outputs": [],
   "source": []
  }
 ],
 "metadata": {
  "kernelspec": {
   "display_name": "Python 3",
   "language": "python",
   "name": "python3"
  },
  "language_info": {
   "codemirror_mode": {
    "name": "ipython",
    "version": 3
   },
   "file_extension": ".py",
   "mimetype": "text/x-python",
   "name": "python",
   "nbconvert_exporter": "python",
   "pygments_lexer": "ipython3",
   "version": "3.8.5"
  }
 },
 "nbformat": 4,
 "nbformat_minor": 4
}
